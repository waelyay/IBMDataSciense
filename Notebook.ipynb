{
    "cells": [
        {
            "metadata": {},
            "cell_type": "markdown",
            "source": "## My Jupyter Notebook on IBM Watson Studio"
        },
        {
            "metadata": {},
            "cell_type": "markdown",
            "source": "__Wael Youssef__ Solution Director"
        },
        {
            "metadata": {},
            "cell_type": "markdown",
            "source": "_Data Sciense in hot topic theses days I am trying to get my head around the topic to understand what is it and learn it_"
        },
        {
            "metadata": {},
            "cell_type": "markdown",
            "source": "### Using IBM Watson to creat a project-using a Notebook and then publish the nootbook"
        },
        {
            "metadata": {},
            "cell_type": "code",
            "source": "print(1+1)",
            "execution_count": 2,
            "outputs": [
                {
                    "output_type": "stream",
                    "text": "2\n",
                    "name": "stdout"
                }
            ]
        },
        {
            "metadata": {},
            "cell_type": "markdown",
            "source": "1. Numbered item\n1. Numbered item\n\n1. Numbered item\n     1. Substep\n ***\n \n "
        },
        {
            "metadata": {},
            "cell_type": "code",
            "source": "",
            "execution_count": null,
            "outputs": []
        }
    ],
    "metadata": {
        "kernelspec": {
            "name": "python3",
            "display_name": "Python 3.8",
            "language": "python"
        },
        "language_info": {
            "name": "python",
            "version": "3.8.11",
            "mimetype": "text/x-python",
            "codemirror_mode": {
                "name": "ipython",
                "version": 3
            },
            "pygments_lexer": "ipython3",
            "nbconvert_exporter": "python",
            "file_extension": ".py"
        }
    },
    "nbformat": 4,
    "nbformat_minor": 1
}